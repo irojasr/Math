{
 "cells": [
  {
   "cell_type": "code",
   "execution_count": null,
   "id": "c4ca0dd9",
   "metadata": {
    "vscode": {
     "languageId": "plaintext"
    }
   },
   "outputs": [],
   "source": [
    "GL = DD-UU\n",
    "DD = G.boundary_pushforward([fundclass(1,1),psiclass(2,1,2)])\n",
    "UU = G.boundary_pushforward([psiclass(1,1,1),fundclass(1,2)])\n",
    "G = StableGraph([1,1],[[2],[1,3]],[(2,3)])\n",
    "GG = G.to_tautological_class()\n",
    "GLambda=(G.boundary_pushforward([fundclass(1,1),lambdaclass(1,1,2)]))\n",
    "(lambdaclass(2,2,1)*GL).evaluate()\n",
    "H=StableGraph([1,0,1],[[2],[1,3,4],[5]],[(2,3),(4,5)])\n",
    "DDRes=G.boundary_pushforward([fundclass(1,1),-psiclass(2,1,2)*lambdaclass(1,1,2)])\n",
    "UURes=G.boundary_pushforward([-psiclass(1,1,1),fundclass(1,2)])\n",
    "ResProd1=UURes+DDRes\n",
    "ResProd2=H.boundary_pushforward([fundclass(1,1),fundclass(0,3),lambdaclass(1,1,1)])"
   ]
  },
  {
   "cell_type": "code",
   "execution_count": null,
   "id": "a33e5841",
   "metadata": {
    "vscode": {
     "languageId": "plaintext"
    }
   },
   "outputs": [],
   "source": [
    "sage"
   ]
  },
  {
   "cell_type": "code",
   "execution_count": null,
   "id": "a5d9a8ef",
   "metadata": {
    "vscode": {
     "languageId": "plaintext"
    }
   },
   "outputs": [],
   "source": []
  }
 ],
 "metadata": {
  "language_info": {
   "name": "python"
  }
 },
 "nbformat": 4,
 "nbformat_minor": 5
}
