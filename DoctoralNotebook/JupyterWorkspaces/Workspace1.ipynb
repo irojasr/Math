{
 "cells": [
  {
   "cell_type": "code",
   "execution_count": null,
   "id": "c4ca0dd9",
   "metadata": {
    "vscode": {
     "languageId": "python"
    }
   },
   "outputs": [],
   "source": [
    "GL = DD-UU\n",
    "DD = G.boundary_pushforward([fundclass(1,1),psiclass(2,1,2)])\n",
    "UU = G.boundary_pushforward([psiclass(1,1,1),fundclass(1,2)])\n",
    "G = StableGraph([1,1],[[2],[1,3]],[(2,3)])\n",
    "GG = G.to_tautological_class()\n",
    "GLambda=(G.boundary_pushforward([fundclass(1,1),lambdaclass(1,1,2)]))\n",
    "(lambdaclass(2,2,1)*GL).evaluate()\n",
    "H=StableGraph([1,0,1],[[2],[1,3,4],[5]],[(2,3),(4,5)])\n",
    "DDRes=G.boundary_pushforward([fundclass(1,1),-psiclass(2,1,2)*lambdaclass(1,1,2)])\n",
    "UURes=G.boundary_pushforward([-psiclass(1,1,1),fundclass(1,2)])\n",
    "ResProd1=UURes+DDRes\n",
    "ResProd2=H.boundary_pushforward([fundclass(1,1),fundclass(0,3),lambdaclass(1,1,1)])"
   ]
  },
  {
   "cell_type": "code",
   "execution_count": 2,
   "id": "a5d9a8ef",
   "metadata": {
    "vscode": {
     "languageId": "python"
    }
   },
   "outputs": [],
   "source": [
    "from admcycles import *"
   ]
  },
  {
   "cell_type": "code",
   "execution_count": 27,
   "id": "174b591a",
   "metadata": {
    "vscode": {
     "languageId": "python"
    }
   },
   "outputs": [
    {
     "data": {
      "text/plain": [
       "Graph :      [1, 1] [[2], [1, 3]] [(2, 3)]\n",
       "Polynomial : psi_3 - psi_2"
      ]
     },
     "execution_count": 27,
     "metadata": {},
     "output_type": "execute_result"
    }
   ],
   "source": [
    "G = StableGraph([1,1],[[2],[1,3]],[(2,3)])\n",
    "GG = G.to_tautological_class()\n",
    "GDown = G.boundary_pushforward([fundclass(1,1),psiclass(2,1,2)])\n",
    "GUp = G.boundary_pushforward([-psiclass(1,1,1),fundclass(1,2)])\n",
    "GMumf = GDown+GUp\n",
    "GMumf"
   ]
  },
  {
   "cell_type": "code",
   "execution_count": 13,
   "id": "727e3fca",
   "metadata": {
    "vscode": {
     "languageId": "python"
    }
   },
   "outputs": [
    {
     "data": {
      "text/plain": [
       "Graph :      [1, 1] [[2], [1, 3]] [(2, 3)]\n",
       "Polynomial : -1/12*psi_3 + 1/12*(kappa_1)_1 - 1/12*psi_1\n",
       "\n",
       "Graph :      [1, 0] [[2], [1, 3, 4, 5]] [(2, 3), (4, 5)]\n",
       "Polynomial : 1/24\n",
       "\n",
       "Graph :      [1, 1, 0] [[2], [4], [1, 3, 5]] [(2, 3), (4, 5)]\n",
       "Polynomial : 1/12"
      ]
     },
     "execution_count": 13,
     "metadata": {},
     "output_type": "execute_result"
    }
   ],
   "source": [
    "GLambda=(G.boundary_pushforward([fundclass(1,1),lambdaclass(1,1,2)]))\n",
    "GLambda"
   ]
  },
  {
   "cell_type": "code",
   "execution_count": 14,
   "id": "cc43d12e",
   "metadata": {
    "vscode": {
     "languageId": "python"
    }
   },
   "outputs": [
    {
     "data": {
      "text/plain": [
       "Graph :      [1, 0, 1] [[2], [1, 3, 4], [5]] [(2, 3), (4, 5)]\n",
       "Polynomial : 1"
      ]
     },
     "execution_count": 14,
     "metadata": {},
     "output_type": "execute_result"
    }
   ],
   "source": [
    "H=StableGraph([1,0,1],[[2],[1,3,4],[5]],[(2,3),(4,5)])\n",
    "Mosq=H.to_tautological_class()\n",
    "Mosq"
   ]
  },
  {
   "cell_type": "code",
   "execution_count": 23,
   "id": "8154afb8",
   "metadata": {
    "vscode": {
     "languageId": "python"
    }
   },
   "outputs": [
    {
     "data": {
      "text/plain": [
       "Graph :      [1, 1] [[2], [1, 3]] [(2, 3)]\n",
       "Polynomial : -1/144*(kappa_1)_0*psi_1*psi_3 + 1/144*(kappa_1)_0*(kappa_1)_1*psi_3 - 1/288*psi_1^2*psi_2 + 1/144*(kappa_1)_1*psi_1*psi_2 - 1/288*(kappa_1^2)_1*psi_2 - 1/144*(kappa_1)_0*psi_3^2 + 1/288*psi_2*psi_3^2\n",
       "\n",
       "Graph :      [0, 1] [[1, 4, 3, 2], [5]] [(2, 3), (4, 5)]\n",
       "Polynomial : 1/288*psi_1*psi_5 + 1/288*(kappa_1)_1*psi_4 - 1/288*(kappa_1)_0*psi_5 + 1/288*psi_2*psi_5\n",
       "\n",
       "Graph :      [0, 1] [[3, 4, 5], [1, 6]] [(3, 4), (5, 6)]\n",
       "Polynomial : -1/288*psi_6^2\n",
       "\n",
       "Graph :      [1, 0] [[1, 4], [5, 3, 2]] [(2, 3), (4, 5)]\n",
       "Polynomial : -1/288*psi_1*psi_4 + 1/288*(kappa_1)_0*psi_4\n",
       "\n",
       "Graph :      [1, 0, 1] [[2], [1, 3, 4], [5]] [(2, 3), (4, 5)]\n",
       "Polynomial : -1/144*(kappa_1)_0*psi_5 + 1/288*psi_2*psi_5\n",
       "\n",
       "Graph :      [0, 0] [[1, 7, 4, 3], [8, 6, 5]] [(3, 4), (5, 6), (7, 8)]\n",
       "Polynomial : 1/1152*psi_7\n",
       "\n",
       "Graph :      [0, 0] [[1, 7, 6, 5], [8, 4, 3]] [(3, 4), (5, 6), (7, 8)]\n",
       "Polynomial : 1/1152*psi_7\n",
       "\n",
       "Graph :      [0, 0, 1] [[3, 4, 5], [1, 6, 7], [8]] [(3, 4), (5, 6), (7, 8)]\n",
       "Polynomial : -1/288*psi_8\n",
       "\n",
       "Graph :      [0, 1, 0] [[3, 4, 6], [7], [1, 2, 5]] [(2, 3), (4, 5), (6, 7)]\n",
       "Polynomial : -1/288*psi_7"
      ]
     },
     "execution_count": 23,
     "metadata": {},
     "output_type": "execute_result"
    }
   ],
   "source": [
    "(lambdaclass(2,2,1)*GMumf)"
   ]
  },
  {
   "cell_type": "code",
   "execution_count": 24,
   "id": "8eab12b6",
   "metadata": {
    "vscode": {
     "languageId": "python"
    }
   },
   "outputs": [
    {
     "data": {
      "text/plain": [
       "1/576"
      ]
     },
     "execution_count": 24,
     "metadata": {},
     "output_type": "execute_result"
    }
   ],
   "source": [
    "(lambdaclass(2,2,1)*GMumf).evaluate()"
   ]
  },
  {
   "cell_type": "code",
   "execution_count": 17,
   "id": "b344c04f",
   "metadata": {
    "vscode": {
     "languageId": "python"
    }
   },
   "outputs": [
    {
     "data": {
      "text/plain": [
       "0"
      ]
     },
     "execution_count": 17,
     "metadata": {},
     "output_type": "execute_result"
    }
   ],
   "source": [
    "(GLambda*GMumf)"
   ]
  },
  {
   "cell_type": "code",
   "execution_count": 16,
   "id": "534531c7",
   "metadata": {
    "vscode": {
     "languageId": "python"
    }
   },
   "outputs": [
    {
     "data": {
      "text/plain": [
       "0"
      ]
     },
     "execution_count": 16,
     "metadata": {},
     "output_type": "execute_result"
    }
   ],
   "source": [
    "(Mosq*GMumf)"
   ]
  },
  {
   "cell_type": "code",
   "execution_count": 26,
   "id": "791aa54f",
   "metadata": {
    "vscode": {
     "languageId": "python"
    }
   },
   "outputs": [
    {
     "data": {
      "text/plain": [
       "7/5760"
      ]
     },
     "execution_count": 26,
     "metadata": {},
     "output_type": "execute_result"
    }
   ],
   "source": [
    "(lambdaclass(2,2,1)*psiclass(1,2,1)^2).evaluate()"
   ]
  },
  {
   "cell_type": "code",
   "execution_count": 31,
   "id": "1c1c7346",
   "metadata": {
    "vscode": {
     "languageId": "python"
    }
   },
   "outputs": [],
   "source": [
    "LHS=GG*GLambda\n",
    "DownRes1=G.boundary_pushforward([fundclass(1,1),-psiclass(2,1,2)*lambdaclass(1,1,2)])\n",
    "UpRes1=G.boundary_pushforward([-psiclass(1,1,1),fundclass(1,2)])\n",
    "Res1=UpRes1+DownRes1\n",
    "Res2=H.boundary_pushforward([fundclass(1,1),fundclass(0,3),lambdaclass(1,1,1)])\n",
    "RHS=Res1+Res2\n"
   ]
  },
  {
   "cell_type": "code",
   "execution_count": 45,
   "id": "3276ac8c",
   "metadata": {
    "vscode": {
     "languageId": "python"
    }
   },
   "outputs": [
    {
     "data": {
      "text/plain": [
       "Graph :      [1, 1] [[2], [1, 3]] [(2, 3)]\n",
       "Polynomial : 1/12*psi_3^2 + 1/12*psi_2*psi_3 - 1/12*(kappa_1)_1*psi_3 - 1/12*(kappa_1)_1*psi_2 + 1/12*psi_1*psi_3 + 1/12*psi_1*psi_2\n",
       "\n",
       "Graph :      [1, 0] [[2], [1, 3, 4, 5]] [(2, 3), (4, 5)]\n",
       "Polynomial : -1/24*psi_3 - 1/24*psi_2\n",
       "\n",
       "Graph :      [1, 0, 1] [[2], [1, 3, 4], [5]] [(2, 3), (4, 5)]\n",
       "Polynomial : 1/12*(kappa_1)_0\n",
       "\n",
       "Graph :      [1, 1, 0] [[2], [4], [1, 3, 5]] [(2, 3), (4, 5)]\n",
       "Polynomial : -1/12*psi_4 - 1/12*psi_2\n",
       "\n",
       "Graph :      [1, 0, 0] [[2], [1, 6, 3], [7, 5, 4]] [(2, 3), (4, 5), (6, 7)]\n",
       "Polynomial : 1/24"
      ]
     },
     "execution_count": 45,
     "metadata": {},
     "output_type": "execute_result"
    }
   ],
   "source": [
    "LHS"
   ]
  },
  {
   "cell_type": "code",
   "execution_count": 46,
   "id": "5ed91b52",
   "metadata": {
    "vscode": {
     "languageId": "python"
    }
   },
   "outputs": [
    {
     "data": {
      "text/plain": [
       "Graph :      [1, 1] [[2], [1, 3]] [(2, 3)]\n",
       "Polynomial : -psi_2 + 1/12*psi_3^2 - 1/12*(kappa_1)_1*psi_3 + 1/12*psi_1*psi_3\n",
       "\n",
       "Graph :      [1, 0] [[2], [1, 3, 4, 5]] [(2, 3), (4, 5)]\n",
       "Polynomial : -1/24*psi_3\n",
       "\n",
       "Graph :      [1, 0, 1] [[2], [1, 3, 4], [5]] [(2, 3), (4, 5)]\n",
       "Polynomial : 1/12*(kappa_1)_2 - 1/12*psi_5\n",
       "\n",
       "Graph :      [1, 0, 0] [[2], [1, 3, 4], [6, 7, 5]] [(2, 3), (4, 5), (6, 7)]\n",
       "Polynomial : 1/24"
      ]
     },
     "execution_count": 46,
     "metadata": {},
     "output_type": "execute_result"
    }
   ],
   "source": [
    "RHS"
   ]
  },
  {
   "cell_type": "code",
   "execution_count": 47,
   "id": "bd600751",
   "metadata": {
    "vscode": {
     "languageId": "python"
    }
   },
   "outputs": [
    {
     "data": {
      "text/plain": [
       "Graph :      [1, 1] [[2], [1, 3]] [(2, 3)]\n",
       "Polynomial : -psi_3 - psi_2\n",
       "\n",
       "Graph :      [1, 0, 1] [[2], [1, 3, 4], [5]] [(2, 3), (4, 5)]\n",
       "Polynomial : 1"
      ]
     },
     "execution_count": 47,
     "metadata": {},
     "output_type": "execute_result"
    }
   ],
   "source": [
    "GG^2"
   ]
  },
  {
   "cell_type": "code",
   "execution_count": 49,
   "id": "1db7df93",
   "metadata": {
    "vscode": {
     "languageId": "python"
    }
   },
   "outputs": [],
   "source": [
    "GGDownTemp = G.boundary_pushforward([fundclass(1,1),-psiclass(2,1,2)])\n",
    "GGUpTemp = G.boundary_pushforward([-psiclass(1,1,1),fundclass(1,2)])\n",
    "GGTemp = GGUpTemp+GGDownTemp+H.to_tautological_class()"
   ]
  },
  {
   "cell_type": "code",
   "execution_count": 50,
   "id": "4740881e",
   "metadata": {
    "vscode": {
     "languageId": "python"
    }
   },
   "outputs": [
    {
     "data": {
      "text/plain": [
       "Graph :      [1, 1] [[2], [1, 3]] [(2, 3)]\n",
       "Polynomial : -psi_2 - psi_3\n",
       "\n",
       "Graph :      [1, 0, 1] [[2], [1, 3, 4], [5]] [(2, 3), (4, 5)]\n",
       "Polynomial : 1"
      ]
     },
     "execution_count": 50,
     "metadata": {},
     "output_type": "execute_result"
    }
   ],
   "source": [
    "GGTemp"
   ]
  },
  {
   "cell_type": "code",
   "execution_count": 51,
   "id": "68a028c2",
   "metadata": {
    "vscode": {
     "languageId": "python"
    }
   },
   "outputs": [
    {
     "data": {
      "text/plain": [
       "0"
      ]
     },
     "execution_count": 51,
     "metadata": {},
     "output_type": "execute_result"
    }
   ],
   "source": [
    "GG^2-GGTemp"
   ]
  },
  {
   "cell_type": "code",
   "execution_count": 52,
   "id": "642d4003",
   "metadata": {
    "vscode": {
     "languageId": "python"
    }
   },
   "outputs": [
    {
     "data": {
      "text/plain": [
       "Graph :      [1, 1] [[2], [1, 3]] [(2, 3)]\n",
       "Polynomial : -psi_3^2\n",
       "\n",
       "Graph :      [1, 0, 1] [[2], [1, 3, 4], [5]] [(2, 3), (4, 5)]\n",
       "Polynomial : -psi_5"
      ]
     },
     "execution_count": 52,
     "metadata": {},
     "output_type": "execute_result"
    }
   ],
   "source": [
    "GG*GMumf"
   ]
  },
  {
   "cell_type": "code",
   "execution_count": 53,
   "id": "1b585b60",
   "metadata": {
    "vscode": {
     "languageId": "python"
    }
   },
   "outputs": [
    {
     "data": {
      "text/plain": [
       "0"
      ]
     },
     "execution_count": 53,
     "metadata": {},
     "output_type": "execute_result"
    }
   ],
   "source": [
    "StableGraph([1, 1],[[2], [1, 3]],[(2, 3)]).boundary_pushforward([fundclass(1,1),-psiclass(2,1,2)^2*lambdaclass(1,1,2)])"
   ]
  },
  {
   "cell_type": "code",
   "execution_count": 57,
   "id": "827e8bee",
   "metadata": {
    "vscode": {
     "languageId": "python"
    }
   },
   "outputs": [
    {
     "data": {
      "text/plain": [
       "-1/576"
      ]
     },
     "execution_count": 57,
     "metadata": {},
     "output_type": "execute_result"
    }
   ],
   "source": [
    "StableGraph([1, 0, 1],[[2], [1, 3, 4], [5]],[(2, 3), (4, 5)]).boundary_pushforward([lambdaclass(1,1,1),fundclass(0,3),-psiclass(1,1,1)]).evaluate()"
   ]
  },
  {
   "cell_type": "code",
   "execution_count": 56,
   "id": "29dac6af",
   "metadata": {
    "vscode": {
     "languageId": "python"
    }
   },
   "outputs": [
    {
     "data": {
      "text/plain": [
       "Graph :      [1, 0, 1] [[2], [1, 3, 4], [5]] [(2, 3), (4, 5)]\n",
       "Polynomial : -psi_5"
      ]
     },
     "execution_count": 56,
     "metadata": {},
     "output_type": "execute_result"
    }
   ],
   "source": [
    "StableGraph([1, 0, 1],[[2], [1, 3, 4], [5]],[(2, 3), (4, 5)]).boundary_pushforward([fundclass(1,1),fundclass(0,3),-psiclass(1,1,1)])"
   ]
  },
  {
   "cell_type": "code",
   "execution_count": 61,
   "id": "14f033f7",
   "metadata": {
    "vscode": {
     "languageId": "python"
    }
   },
   "outputs": [
    {
     "data": {
      "text/plain": [
       "Graph :      [1] [[1]] []\n",
       "Polynomial : 1/12*(kappa_1)_0 - 1/12*psi_1\n",
       "\n",
       "Graph :      [0] [[3, 4, 1]] [(3, 4)]\n",
       "Polynomial : 1/24"
      ]
     },
     "execution_count": 61,
     "metadata": {},
     "output_type": "execute_result"
    }
   ],
   "source": [
    "lambdaclass(1,1,1)"
   ]
  }
 ],
 "metadata": {
  "kernelspec": {
   "display_name": "SageMath 10.7",
   "language": "sage",
   "name": "SageMath-10.7"
  },
  "language_info": {
   "codemirror_mode": {
    "name": "ipython",
    "version": 3
   },
   "file_extension": ".py",
   "mimetype": "text/x-python",
   "name": "sage",
   "nbconvert_exporter": "python",
   "pygments_lexer": "ipython3",
   "version": "3.13.3"
  }
 },
 "nbformat": 4,
 "nbformat_minor": 5
}
